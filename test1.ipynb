{
 "cells": [
  {
   "cell_type": "code",
   "execution_count": 2,
   "metadata": {},
   "outputs": [],
   "source": [
    "import pandas as pd\n",
    "import geopandas as gp\n",
    "import shapely.geometry as sgeo\n",
    "\n",
    "from shapely.geometry import Point\n",
    "from shapely.strtree import STRtree\n",
    "\n",
    "import mpu"
   ]
  },
  {
   "cell_type": "code",
   "execution_count": 3,
   "metadata": {},
   "outputs": [
    {
     "name": "stdout",
     "output_type": "stream",
     "text": [
      "coords_1  46\n",
      "46    POINT (37.58499 55.70678)\n",
      "Name: geometry, dtype: geometry\n",
      "coords_2  POINT (37.58499 55.70678)\n"
     ]
    }
   ],
   "source": [
    "df_stations = pd.read_csv('moscow_metro_stations.csv')\n",
    "df_stations_gdf = gp.GeoDataFrame(df_stations, geometry=gp.points_from_xy(df_stations.Longitude, df_stations.Latitude))\n",
    "\n",
    "tree = STRtree(df_stations_gdf['geometry'])\n",
    "\n",
    "coords_1 = Point(37.585700, 55.693312)\n",
    "print('coords_1 ', tree.nearest(coords_1))\n",
    "print(df_stations_gdf[df_stations_gdf.index == 46]['geometry'])\n",
    "\n",
    "coords_2 = (df_stations_gdf[df_stations_gdf.index == tree.nearest(coords_1)]['geometry']).ravel()[0]\n",
    "print('coords_2 ', coords_2)\n",
    "# (37.58499 55.70678)"
   ]
  },
  {
   "cell_type": "code",
   "execution_count": 5,
   "metadata": {},
   "outputs": [
    {
     "data": {
      "text/html": [
       "<div>\n",
       "<style scoped>\n",
       "    .dataframe tbody tr th:only-of-type {\n",
       "        vertical-align: middle;\n",
       "    }\n",
       "\n",
       "    .dataframe tbody tr th {\n",
       "        vertical-align: top;\n",
       "    }\n",
       "\n",
       "    .dataframe thead th {\n",
       "        text-align: right;\n",
       "    }\n",
       "</style>\n",
       "<table border=\"1\" class=\"dataframe\">\n",
       "  <thead>\n",
       "    <tr style=\"text-align: right;\">\n",
       "      <th></th>\n",
       "      <th>Line</th>\n",
       "      <th>LineColor</th>\n",
       "      <th>Name</th>\n",
       "      <th>Latitude</th>\n",
       "      <th>Longitude</th>\n",
       "      <th>Order</th>\n",
       "      <th>geometry</th>\n",
       "    </tr>\n",
       "  </thead>\n",
       "  <tbody>\n",
       "    <tr>\n",
       "      <th>46</th>\n",
       "      <td>Калужско-Рижская</td>\n",
       "      <td>F07E24</td>\n",
       "      <td>Ленинский проспект</td>\n",
       "      <td>55.70678</td>\n",
       "      <td>37.58499</td>\n",
       "      <td>14</td>\n",
       "      <td>POINT (37.58499 55.70678)</td>\n",
       "    </tr>\n",
       "  </tbody>\n",
       "</table>\n",
       "</div>"
      ],
      "text/plain": [
       "                Line LineColor                Name  Latitude  Longitude  \\\n",
       "46  Калужско-Рижская    F07E24  Ленинский проспект  55.70678   37.58499   \n",
       "\n",
       "    Order                   geometry  \n",
       "46     14  POINT (37.58499 55.70678)  "
      ]
     },
     "execution_count": 5,
     "metadata": {},
     "output_type": "execute_result"
    }
   ],
   "source": [
    "df_stations_gdf[df_stations_gdf.index == 46]"
   ]
  },
  {
   "cell_type": "code",
   "execution_count": 8,
   "metadata": {},
   "outputs": [
    {
     "data": {
      "text/plain": [
       "1.2"
      ]
     },
     "execution_count": 8,
     "metadata": {},
     "output_type": "execute_result"
    }
   ],
   "source": [
    "coords_1round(mpu.haversine_distance((float(.x), float(coords_1.y)), (float(coords_2.x), float(coords_2.y))), 1)"
   ]
  },
  {
   "cell_type": "code",
   "execution_count": 3,
   "metadata": {},
   "outputs": [
    {
     "name": "stdout",
     "output_type": "stream",
     "text": [
      "1.32397\n",
      "1.27496\n"
     ]
    }
   ],
   "source": [
    "# Академическая        37.57501   55.68808\n",
    "# Ленинский проспект   37.58742   55.70818 \n",
    "\n",
    "coords_1 = Point(37.585700, 55.693312)\n",
    "\n",
    "# coords_2 = Point(37.586389, 55.7075) # Ленинский\n",
    "# coords_2 = Point(37.573333, 55.687778) # Академическая\n",
    "\n",
    "coords_2 = Point(37.58742, 55.70818)    # Ленинский\n",
    "print(round(mpu.haversine_distance((float(coords_1.x), float(coords_1.y)), (float(coords_2.x), float(coords_2.y))), 5))\n",
    "\n",
    "coords_2 = Point(37.57501, 55.68808)  # Академическая\n",
    "print(round(mpu.haversine_distance((float(coords_1.x), float(coords_1.y)), (float(coords_2.x), float(coords_2.y))), 5))"
   ]
  },
  {
   "cell_type": "code",
   "execution_count": 35,
   "metadata": {},
   "outputs": [
    {
     "name": "stdout",
     "output_type": "stream",
     "text": [
      "1.27496\n"
     ]
    }
   ],
   "source": [
    "from geopy.distance import great_circle as GC \n",
    "   \n",
    "coords_1 = (37.585700, 55.693312) # Шверника 11\n",
    "\n",
    "# coords_2 = Point(37.586389, 55.7075) # Ленинский\n",
    "# coords_2 = Point(37.573333, 55.687778) # Академическая\n",
    "\n",
    "# coords_2 = (37.58742, 55.70818)    # Ленинский\n",
    "coords_2 = (37.57501, 55.68808)  # Академическая\n",
    "   \n",
    "print(round(GC(coords_1, coords_2).km, 5))"
   ]
  },
  {
   "cell_type": "code",
   "execution_count": 20,
   "metadata": {},
   "outputs": [],
   "source": [
    "df_stations = pd.read_csv('moscow_metro_stations.csv')\n",
    "# coords = ('37.585700 55.693312')\n",
    "coords = ('55.70678 37.58499')\n",
    "\n",
    "df_stations_gdf = gp.GeoDataFrame(df_stations, geometry=gp.points_from_xy(df_stations.Longitude, df_stations.Latitude))\n",
    "\n",
    "tree = STRtree(df_stations_gdf['geometry'])\n",
    "\n",
    "coords_1 = Point(float(coords.split(\" \")[0]), float(coords.split(\" \")[1]))\n",
    "coords_2 = (df_stations_gdf[df_stations_gdf.index== tree.nearest(coords_1)]['geometry']).ravel()[0]\n",
    "\n",
    "# dist = get_direct_distance(coords_1, coords_2)\n",
    "# closest_metro = (df_stations_gdf[df_stations_gdf.index == tree.nearest(coords_1)]['Name']).ravel()[0]"
   ]
  },
  {
   "cell_type": "code",
   "execution_count": 21,
   "metadata": {},
   "outputs": [
    {
     "name": "stdout",
     "output_type": "stream",
     "text": [
      "POINT (37.8582 55.6743)\n"
     ]
    }
   ],
   "source": [
    "print(coords_2)"
   ]
  },
  {
   "cell_type": "code",
   "execution_count": 22,
   "metadata": {},
   "outputs": [
    {
     "data": {
      "text/plain": [
       "160"
      ]
     },
     "execution_count": 22,
     "metadata": {},
     "output_type": "execute_result"
    }
   ],
   "source": [
    "tree.nearest(coords_1)"
   ]
  },
  {
   "cell_type": "code",
   "execution_count": 23,
   "metadata": {},
   "outputs": [
    {
     "data": {
      "text/html": [
       "<div>\n",
       "<style scoped>\n",
       "    .dataframe tbody tr th:only-of-type {\n",
       "        vertical-align: middle;\n",
       "    }\n",
       "\n",
       "    .dataframe tbody tr th {\n",
       "        vertical-align: top;\n",
       "    }\n",
       "\n",
       "    .dataframe thead th {\n",
       "        text-align: right;\n",
       "    }\n",
       "</style>\n",
       "<table border=\"1\" class=\"dataframe\">\n",
       "  <thead>\n",
       "    <tr style=\"text-align: right;\">\n",
       "      <th></th>\n",
       "      <th>Line</th>\n",
       "      <th>LineColor</th>\n",
       "      <th>Name</th>\n",
       "      <th>Latitude</th>\n",
       "      <th>Longitude</th>\n",
       "      <th>Order</th>\n",
       "      <th>geometry</th>\n",
       "    </tr>\n",
       "  </thead>\n",
       "  <tbody>\n",
       "    <tr>\n",
       "      <th>160</th>\n",
       "      <td>Таганско-Краснопресненская</td>\n",
       "      <td>943E90</td>\n",
       "      <td>Котельники</td>\n",
       "      <td>55.6743</td>\n",
       "      <td>37.8582</td>\n",
       "      <td>22</td>\n",
       "      <td>POINT (37.85820 55.67430)</td>\n",
       "    </tr>\n",
       "  </tbody>\n",
       "</table>\n",
       "</div>"
      ],
      "text/plain": [
       "                           Line LineColor        Name  Latitude  Longitude  \\\n",
       "160  Таганско-Краснопресненская    943E90  Котельники   55.6743    37.8582   \n",
       "\n",
       "     Order                   geometry  \n",
       "160     22  POINT (37.85820 55.67430)  "
      ]
     },
     "execution_count": 23,
     "metadata": {},
     "output_type": "execute_result"
    }
   ],
   "source": [
    "df_stations[df_stations.index == 160]"
   ]
  },
  {
   "cell_type": "code",
   "execution_count": null,
   "metadata": {},
   "outputs": [],
   "source": []
  }
 ],
 "metadata": {
  "kernelspec": {
   "display_name": "Python 3",
   "language": "python",
   "name": "python3"
  },
  "language_info": {
   "codemirror_mode": {
    "name": "ipython",
    "version": 3
   },
   "file_extension": ".py",
   "mimetype": "text/x-python",
   "name": "python",
   "nbconvert_exporter": "python",
   "pygments_lexer": "ipython3",
   "version": "3.10.8"
  },
  "orig_nbformat": 4,
  "vscode": {
   "interpreter": {
    "hash": "fb9f5134dce0d9c0a021eaf5440bdb12cc002e55f1854450e7948a5602153870"
   }
  }
 },
 "nbformat": 4,
 "nbformat_minor": 2
}
